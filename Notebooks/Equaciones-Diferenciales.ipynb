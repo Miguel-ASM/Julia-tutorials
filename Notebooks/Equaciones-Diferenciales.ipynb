{
 "cells": [
  {
   "cell_type": "markdown",
   "metadata": {},
   "source": [
    "# Solving Differential equations in Julia"
   ]
  },
  {
   "cell_type": "markdown",
   "metadata": {},
   "source": [
    "In this notebook I will go over some of the basics of solving ordinary differential equations (ODEs) numerically using ```julia```. I will demonstrate how to integrate differential equations using two approaches:\n",
    "\n",
    "1. Implement a solution method, like the [Euler method](https://en.wikipedia.org/wiki/Euler_method), in a DIY (Do It Yourself!) way.\n",
    "\n",
    "2. Solve using the functions in the julia package [```DifferentialEquations.jl```](http://docs.juliadiffeq.org/latest/).\n",
    "\n",
    "\n",
    "To run this notebook you will need the following packages:\n",
    "\n",
    "- To plot the results: ```Plots.jl``` and```PyPlot.jl```. Also ```LaTeXStrings.jl``` to be able to use LaTeX in the labels of the figures. \n",
    "- Labelled arrays (which  I explain later) ```LabelledArrays```.\n",
    "- To use the differential equations functions ```DiffEqCallbacks.jl``` and ```DifferentialEquations.jl```\n",
    "\n"
   ]
  },
  {
   "cell_type": "code",
   "execution_count": 43,
   "metadata": {},
   "outputs": [
    {
     "name": "stderr",
     "output_type": "stream",
     "text": [
      "┌ Info: Precompiling Plots [91a5bcdd-55d7-5caf-9e0b-520d859cae80]\n",
      "└ @ Base loading.jl:1273\n",
      "┌ Info: Precompiling PyPlot [d330b81b-6aea-500a-939a-2ce795aea3ee]\n",
      "└ @ Base loading.jl:1273\n"
     ]
    }
   ],
   "source": [
    "using Plots; pyplot();\n",
    "using LaTeXStrings;\n",
    "using Printf;\n",
    "using BenchmarkTools;"
   ]
  },
  {
   "cell_type": "markdown",
   "metadata": {},
   "source": [
    "To illustrate the two different solution approaches I will use the example of the [Lotka-Volterra](https://en.wikipedia.org/wiki/Lotka%E2%80%93Volterra_equations) model.\n",
    "\n",
    "#### Lotka-Volterra equations\n",
    "\n",
    "The Lotka-Volterra equations are a simple mathematical model that it is used the predict the evolution of the population of 2 species which interact: one as preadator an the other one as prey. The mathematical model is a pair of first-order nonlinear differential equations for the variables $x$, and $y$ which stand for the population of preys and predators. The instantaneous rate of growth of each species is given by\n",
    "\n",
    "\\begin{equation}\n",
    "    \\begin{split}\n",
    "        \\frac{dx}{dt} &= x\\;(\\alpha - \\beta y)\n",
    "        \\\\\n",
    "        \\frac{dy}{dt} &= y\\;(\\gamma x - \\delta)\n",
    "    \\end{split}\n",
    "\\end{equation}\n",
    "\n",
    "$\\alpha,\\beta,\\gamma,\\delta$ are real positive parameters describing the interaction between both species (Their physical meaning is discussed [here](https://en.wikipedia.org/wiki/Lotka%E2%80%93Volterra_equations)).\n",
    "\n",
    "# Overview of the 2 methods\n",
    "\n",
    "I will focus on ODEs systems of first degree, which have normally the form $\\frac{d}{dt}X(t) = f(X(t),P,t)$, where $X(t) = \\left( X_1(t),X_2(t),...,X_N(t)\\right)^\\mathsf{T}$ is the vector containing the $N$ independent variables, $P=\\left( P_1,P_2,...,P_M\\right)^\\mathsf{T}$ is a vector containing all $M$ parameters the problem depends on, and $t$ is time. $f(X(t),P,t)$ is an $N$-dimensional vector function that gives the evoliution of the components of $X$, $\\frac{d}{dt}X_i(t) = f_i(X(t),P,t)$. This kind of system is pretty general, because even if we have a system of equations of higher degree we can alaways reduce it to first degree.\n",
    "\n",
    "In the model we are using we have $X(t) = \\left( x(t),y(t) \\right)^\\mathsf{T}$, $P =\\left( \\alpha,\\beta,\\gamma,\\delta \\right)^\\mathsf{T}$ and \n",
    "\n",
    "\\begin{equation}\n",
    "    f(X,P,t) = \n",
    "    \\Bigg(\n",
    "    \\begin{array}{c}\n",
    "        x\\;(\\alpha - \\beta y)\n",
    "        \\\\\n",
    "        y\\;(\\gamma x - \\delta)\n",
    "    \\end{array}\n",
    "    \\Bigg)\n",
    "\\end{equation}\n",
    "\n",
    "\n",
    "\n",
    "#### Solution with DIY solver\n",
    "\n",
    "In this section I consider the [Euler method](https://en.wikipedia.org/wiki/Euler_method) for its simplicity, the same philosophy can be applied to other methods.\n",
    "\n",
    "The Euler method consists in discretizing the time variable in small intervals \n",
    "\n",
    "```pseudocode\n",
    "x_[i+1] = x_[i] + f(x_[i]),P,t_[i]) * (t_[i+1]-t_[i])\n",
    "```\n",
    "\n",
    "#### Solution with ```DifferentialEquations.jl```\n",
    "\n",
    "The work-flow with this package consists in first defining a ```ODEProblem``` object from the initial conditions and the function  $f(X(t),P,t)$. Then, one calls the solve function to integrate the equation for the given times. \n"
   ]
  },
  {
   "cell_type": "markdown",
   "metadata": {},
   "source": [
    "# Solution with ```DifferentialEquations.jl```\n",
    "\n",
    "Now, the steps to solve the equation"
   ]
  },
  {
   "cell_type": "markdown",
   "metadata": {},
   "source": [
    "#### 1. Import the necessary packages"
   ]
  },
  {
   "cell_type": "code",
   "execution_count": 11,
   "metadata": {},
   "outputs": [
    {
     "name": "stderr",
     "output_type": "stream",
     "text": [
      "┌ Info: Precompiling DifferentialEquations [0c46a032-eb83-5123-abaf-570d42b7fbaa]\n",
      "└ @ Base loading.jl:1273\n",
      "┌ Info: Precompiling LabelledArrays [2ee39098-c373-598a-b85f-a56591580800]\n",
      "└ @ Base loading.jl:1273\n"
     ]
    }
   ],
   "source": [
    "using DifferentialEquations;\n",
    "using LabelledArrays;"
   ]
  },
  {
   "cell_type": "markdown",
   "metadata": {},
   "source": [
    "#### 2. Defining the $f(X(t),P,t)$ function\n",
    "\n",
    "This can be done the two different forms. We can either define a function that returns the value of the derivative"
   ]
  },
  {
   "cell_type": "code",
   "execution_count": 2,
   "metadata": {},
   "outputs": [],
   "source": [
    "function f_LV(X,P,t)\n",
    "    return [\n",
    "            X[1] * (P.α - P.β * X[2]),\n",
    "            -X[2] * (P.γ - P.δ * X[1])\n",
    "    ];\n",
    "end;"
   ]
  },
  {
   "cell_type": "markdown",
   "metadata": {},
   "source": [
    "or defining a function that changes the values of a preallocated array ```dX``` which contains the derivatives of the dependent variables."
   ]
  },
  {
   "cell_type": "code",
   "execution_count": 3,
   "metadata": {},
   "outputs": [],
   "source": [
    "function f_LV!(dX,X,P,t)\n",
    "    dX[1] = X[1] * (P.α - P.β * X[2]);\n",
    "    dX[2] = -X[2] * (P.γ - P.δ * X[1]);\n",
    "end;"
   ]
  },
  {
   "cell_type": "markdown",
   "metadata": {},
   "source": [
    "The latter kind of function (the ones that change the state if its arguments) is known as a **mutating function** in julia. It is more efficient to define the derivative with a mutating function since changing the values of already allocated arrays is faster than allocating new arrays. Allocating memory for arrays is expensive when done repeatedly. See the results of the folowing performance test of both functions. "
   ]
  },
  {
   "cell_type": "code",
   "execution_count": 15,
   "metadata": {},
   "outputs": [],
   "source": [
    "dX = rand(2);\n",
    "X = rand(2);\n",
    "P = LVector(α =4. , β=1. , γ = 4. , δ = 1.);\n",
    "t = 0.;"
   ]
  },
  {
   "cell_type": "markdown",
   "metadata": {},
   "source": [
    "Test ```f_LV```"
   ]
  },
  {
   "cell_type": "code",
   "execution_count": 25,
   "metadata": {},
   "outputs": [
    {
     "data": {
      "text/plain": [
       "BenchmarkTools.Trial: \n",
       "  memory estimate:  96 bytes\n",
       "  allocs estimate:  1\n",
       "  --------------\n",
       "  minimum time:     40.256 ns (0.00% GC)\n",
       "  median time:      44.993 ns (0.00% GC)\n",
       "  mean time:        49.778 ns (8.22% GC)\n",
       "  maximum time:     2.215 μs (97.32% GC)\n",
       "  --------------\n",
       "  samples:          10000\n",
       "  evals/sample:     991"
      ]
     },
     "execution_count": 25,
     "metadata": {},
     "output_type": "execute_result"
    }
   ],
   "source": [
    "@benchmark f_LV(X,P,t)"
   ]
  },
  {
   "cell_type": "markdown",
   "metadata": {},
   "source": [
    "Test ```f_LV!``` "
   ]
  },
  {
   "cell_type": "code",
   "execution_count": 27,
   "metadata": {},
   "outputs": [
    {
     "data": {
      "text/plain": [
       "BenchmarkTools.Trial: \n",
       "  memory estimate:  16 bytes\n",
       "  allocs estimate:  1\n",
       "  --------------\n",
       "  minimum time:     22.596 ns (0.00% GC)\n",
       "  median time:      25.493 ns (0.00% GC)\n",
       "  mean time:        26.122 ns (1.63% GC)\n",
       "  maximum time:     1.461 μs (98.16% GC)\n",
       "  --------------\n",
       "  samples:          10000\n",
       "  evals/sample:     996"
      ]
     },
     "execution_count": 27,
     "metadata": {},
     "output_type": "execute_result"
    }
   ],
   "source": [
    "@benchmark f_LV!(dX,X,P,t)"
   ]
  },
  {
   "cell_type": "markdown",
   "metadata": {},
   "source": [
    "Comparing the results of both tests we see that the mutating function consumes less resources (memory) and is almost twices as fast. When doing benchmarks, is usually more informative to check the median time since is less biased by the outliers in the sample, i.e., exceptionally large or small times"
   ]
  },
  {
   "cell_type": "markdown",
   "metadata": {},
   "source": [
    "#### 3. Defining the problem object\n",
    "\n",
    "Here, we will defined what is called a ```ODEProblem``` *object*, which contains all the relevant information of our problem. The basic pieces we need to construct the problem are\n",
    "\n",
    "- The function $f(dX,X,P,t)$ that update the value of the derivative with respect time.\n",
    "- The initial conditions\n",
    "- The time span\n",
    "- The parameters\n"
   ]
  },
  {
   "cell_type": "markdown",
   "metadata": {},
   "source": [
    "**Initial condition**"
   ]
  },
  {
   "cell_type": "code",
   "execution_count": 34,
   "metadata": {},
   "outputs": [
    {
     "data": {
      "text/plain": [
       "2-element Array{Float64,1}:\n",
       " 1.0\n",
       " 1.0"
      ]
     },
     "execution_count": 34,
     "metadata": {},
     "output_type": "execute_result"
    }
   ],
   "source": [
    "u0_LV = [1.,1.]"
   ]
  },
  {
   "cell_type": "markdown",
   "metadata": {},
   "source": [
    "**Time span**"
   ]
  },
  {
   "cell_type": "code",
   "execution_count": 35,
   "metadata": {},
   "outputs": [],
   "source": [
    "T_Final_LV = 10.              #Final time\n",
    "tspan_LV = (0.0,T_Final_LV);  #From 0 to T_Final_LV"
   ]
  },
  {
   "cell_type": "markdown",
   "metadata": {},
   "source": [
    "**Parameters**\n",
    "\n",
    "They are put inside a [Labelled vector](https://github.com/JuliaDiffEq/LabelledArrays.jl). This kind of arrays allow accesing to the elements by their name ```LabelledarrayName.elementName```."
   ]
  },
  {
   "cell_type": "code",
   "execution_count": 36,
   "metadata": {},
   "outputs": [
    {
     "name": "stdout",
     "output_type": "stream",
     "text": [
      "4.0\n"
     ]
    }
   ],
   "source": [
    "P_LV = LVector(α =4. , β=1. , γ = 4. , δ = 1.);\n",
    "\n",
    "println(P_LV.α,)"
   ]
  },
  {
   "cell_type": "markdown",
   "metadata": {},
   "source": [
    "**Construct the problem object**"
   ]
  },
  {
   "cell_type": "code",
   "execution_count": 39,
   "metadata": {},
   "outputs": [
    {
     "data": {
      "text/plain": [
       "\u001b[36mODEProblem\u001b[0m with uType \u001b[36mArray{Float64,1}\u001b[0m and tType \u001b[36mFloat64\u001b[0m. In-place: \u001b[36mtrue\u001b[0m\n",
       "timespan: (0.0, 10.0)\n",
       "u0: [1.0, 1.0]"
      ]
     },
     "execution_count": 39,
     "metadata": {},
     "output_type": "execute_result"
    }
   ],
   "source": [
    "problem_LV = ODEProblem(f_LV!,u0_LV,tspan_LV,P_LV)"
   ]
  },
  {
   "cell_type": "markdown",
   "metadata": {},
   "source": [
    "#### 4. Solve the problem by calling the function ```solve``` from the DifferentialEquations Package."
   ]
  },
  {
   "cell_type": "code",
   "execution_count": 41,
   "metadata": {},
   "outputs": [
    {
     "data": {
      "text/plain": [
       "retcode: Success\n",
       "Interpolation: Automatic order switching interpolation\n",
       "t: 70-element Array{Float64,1}:\n",
       "  0.0                \n",
       "  0.06084855858191972\n",
       "  0.17081664347724562\n",
       "  0.28690035693517885\n",
       "  0.4295177475208707 \n",
       "  0.6053539350149165 \n",
       "  0.7725940620742761 \n",
       "  0.8921014499734694 \n",
       "  0.9949721204630707 \n",
       "  1.103132779271137  \n",
       "  1.198319187050117  \n",
       "  1.2924131485440091 \n",
       "  1.4268754445976708 \n",
       "  ⋮                  \n",
       "  8.524602142470581  \n",
       "  8.61389580634974   \n",
       "  8.701816690462776  \n",
       "  8.808544683099631  \n",
       "  8.909011553060688  \n",
       "  9.006502151050729  \n",
       "  9.125704603349241  \n",
       "  9.250689422790861  \n",
       "  9.415974725012381  \n",
       "  9.594212764287223  \n",
       "  9.799800927528949  \n",
       " 10.0                \n",
       "u: 70-element Array{Array{Float64,1},1}:\n",
       " [1.0, 1.0]                              \n",
       " [1.2064374465005956, 0.8381853116209412]\n",
       " [1.7290117538796257, 0.633178941979179] \n",
       " [2.576362455225402, 0.5091573843408783] \n",
       " [4.258353286776334, 0.46377496247594024]\n",
       " [7.849430636440425, 0.6461910344584615] \n",
       " [12.81411583846938, 1.8518760412004496] \n",
       " [13.62797298197314, 5.951838838531532]  \n",
       " [7.94375959763801, 12.417111561456759]  \n",
       " [2.778209771991159, 13.793036417397236] \n",
       " [1.2199045832300353, 11.248568437781897]\n",
       " [0.7063650494787277, 8.418167151611827] \n",
       " [0.48735069071594866, 5.307839268899609]\n",
       " ⋮                                       \n",
       " [13.978281257063301, 4.553456540338325] \n",
       " [10.621756185860752, 9.929147831666286] \n",
       " [5.130526629240251, 13.837523982446315] \n",
       " [1.8333775711869016, 12.668352732704166]\n",
       " [0.8910932480045988, 9.634088351542294] \n",
       " [0.5880158562108635, 6.993112781351613] \n",
       " [0.4784717971899495, 4.618083701591501] \n",
       " [0.4945861687921936, 2.973718870603991] \n",
       " [0.659019626883668, 1.6848995554423218] \n",
       " [1.0700629645554136, 0.9591623582643026]\n",
       " [2.09228974033097, 0.5754502534570025]  \n",
       " [4.212171339194869, 0.4733721118399483] "
      ]
     },
     "execution_count": 41,
     "metadata": {},
     "output_type": "execute_result"
    }
   ],
   "source": [
    "sol_LV = solve(problem_LV)"
   ]
  },
  {
   "cell_type": "code",
   "execution_count": 45,
   "metadata": {},
   "outputs": [
    {
     "data": {
      "image/png": "[encoded data removed]"
     },
     "execution_count": 45,
     "metadata": {},
     "output_type": "execute_result"
    }
   ],
   "source": [
    "plotPhase_LV = plot(\n",
    "    grid = false\n",
    "    ,legend = false\n",
    "    ,xlabel = latexstring(\"prey\")\n",
    "    ,ylabel = latexstring(\"predator\")\n",
    ")\n",
    "\n",
    "plotΔt_LV = 0.01;\n",
    "\n",
    "plot!(\n",
    "        [sol_LV(t)[1] for t in 1:plotΔt_LV:T_Final_LV],[sol_LV(t)[2] for t in 1:plotΔt_LV:T_Final_LV]\n",
    "        ,color=:black\n",
    "    )\n",
    "\n",
    "\n",
    "plotPhase_LV"
   ]
  },
  {
   "cell_type": "code",
   "execution_count": 57,
   "metadata": {},
   "outputs": [
    {
     "data": {
      "image/png": "[encoded data removed]"
     },
     "execution_count": 57,
     "metadata": {},
     "output_type": "execute_result"
    }
   ],
   "source": [
    "tt = 0:0.01:T_Final_LV\n",
    "plot(\n",
    "    tt,[sol_LV(t)[1] for t in tt]\n",
    "    )\n",
    "plot!(\n",
    "    tt,[sol_LV(t)[2] for t in tt]\n",
    "    )"
   ]
  }
 ],
 "metadata": {
  "hide_input": false,
  "kernelspec": {
   "display_name": "Julia 1.3.1",
   "language": "julia",
   "name": "julia-1.3"
  },
  "language_info": {
   "file_extension": ".jl",
   "mimetype": "application/julia",
   "name": "julia",
   "version": "1.3.1"
  },
  "latex_envs": {
   "LaTeX_envs_menu_present": true,
   "autoclose": false,
   "autocomplete": false,
   "bibliofile": "biblio.bib",
   "cite_by": "apalike",
   "current_citInitial": 1,
   "eqLabelWithNumbers": true,
   "eqNumInitial": 1,
   "hotkeys": {
    "equation": "Ctrl-E",
    "itemize": "Ctrl-I"
   },
   "labels_anchors": false,
   "latex_user_defs": false,
   "report_style_numbering": false,
   "user_envs_cfg": false
  },
  "toc": {
   "base_numbering": 1,
   "nav_menu": {},
   "number_sections": false,
   "sideBar": true,
   "skip_h1_title": true,
   "title_cell": "Table of Contents",
   "title_sidebar": "Contents",
   "toc_cell": false,
   "toc_position": {},
   "toc_section_display": true,
   "toc_window_display": true
  }
 },
 "nbformat": 4,
 "nbformat_minor": 4
}
